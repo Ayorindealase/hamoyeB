{
 "cells": [
  {
   "cell_type": "code",
   "execution_count": 35,
   "id": "faced-recovery",
   "metadata": {},
   "outputs": [],
   "source": [
    "import math\n",
    "import pandas as pd\n",
    "import numpy as np\n",
    "import seaborn as sns\n",
    "df=pd.read_csv(\"downloads/energydata_complete.csv\")\n",
    "from sklearn.metrics import r2_score"
   ]
  },
  {
   "cell_type": "code",
   "execution_count": 12,
   "id": "advisory-insight",
   "metadata": {},
   "outputs": [],
   "source": [
    "from sklearn.linear_model import LinearRegression\n",
    "from sklearn.model_selection import train_test_split\n",
    "X=df[\"T2\"]\n",
    "y=df[\"T6\"]"
   ]
  },
  {
   "cell_type": "code",
   "execution_count": 19,
   "id": "latest-charity",
   "metadata": {},
   "outputs": [
    {
     "data": {
      "text/plain": [
       "-35.39"
      ]
     },
     "execution_count": 19,
     "metadata": {},
     "output_type": "execute_result"
    }
   ],
   "source": [
    "X_train,X_test,y_train,y_test=train_test_split(x,y,test_size=0.3)\n",
    "regressor=LinearRegression()\n",
    "regressor.fit(x_train.values.reshape(-1,1),y_train)\n",
    "round(r2_score(X,y),2)"
   ]
  },
  {
   "cell_type": "code",
   "execution_count": 20,
   "id": "demographic-wallpaper",
   "metadata": {},
   "outputs": [
    {
     "data": {
      "text/plain": [
       "12.44"
      ]
     },
     "execution_count": 20,
     "metadata": {},
     "output_type": "execute_result"
    }
   ],
   "source": [
    "from sklearn.metrics import mean_absolute_error\n",
    "round(mean_absolute_error(X,y),2)"
   ]
  },
  {
   "cell_type": "code",
   "execution_count": 25,
   "id": "reduced-wallace",
   "metadata": {
    "scrolled": true
   },
   "outputs": [
    {
     "data": {
      "text/plain": [
       "array([7.8713266 , 7.91023183, 7.88471264, ..., 7.93416844, 7.75078631,\n",
       "       7.91221007])"
      ]
     },
     "execution_count": 25,
     "metadata": {},
     "output_type": "execute_result"
    }
   ],
   "source": [
    "y_pred=regressor.predict(x_test.values.reshape(-1,1))\n",
    "y_pred"
   ]
  },
  {
   "cell_type": "code",
   "execution_count": 29,
   "id": "universal-google",
   "metadata": {},
   "outputs": [
    {
     "data": {
      "text/plain": [
       "223824.84"
      ]
     },
     "execution_count": 29,
     "metadata": {},
     "output_type": "execute_result"
    }
   ],
   "source": [
    "rss=((y_test-y_pred)**2).sum()\n",
    "round(rss,2)"
   ]
  },
  {
   "cell_type": "code",
   "execution_count": 38,
   "id": "dirty-hunger",
   "metadata": {},
   "outputs": [
    {
     "data": {
      "text/plain": [
       "6.148"
      ]
     },
     "execution_count": 38,
     "metadata": {},
     "output_type": "execute_result"
    }
   ],
   "source": [
    "MSE = np.square(np.subtract(y_test,y_pred)).mean() \n",
    "rmse = math.sqrt(MSE)\n",
    "round(rmse,3)"
   ]
  }
 ],
 "metadata": {
  "kernelspec": {
   "display_name": "Python 3",
   "language": "python",
   "name": "python3"
  },
  "language_info": {
   "codemirror_mode": {
    "name": "ipython",
    "version": 3
   },
   "file_extension": ".py",
   "mimetype": "text/x-python",
   "name": "python",
   "nbconvert_exporter": "python",
   "pygments_lexer": "ipython3",
   "version": "3.8.8"
  }
 },
 "nbformat": 4,
 "nbformat_minor": 5
}
